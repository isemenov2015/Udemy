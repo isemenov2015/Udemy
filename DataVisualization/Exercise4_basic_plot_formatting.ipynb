{
 "cells": [
  {
   "cell_type": "code",
   "execution_count": 26,
   "metadata": {},
   "outputs": [],
   "source": [
    "import pandas as pd\n",
    "from bokeh.plotting import figure, output_file, show\n",
    "     \n",
    "#p=figure(plot_width=500,plot_height=400, tools='pan',logo=None)\n",
    "     \n",
    "#p.title.text=\"Cool Data\"\n",
    "#p.title.text_color=\"Gray\"\n",
    "#p.title.text_font=\"times\"\n",
    "#p.title.text_font_style=\"bold\"\n",
    "#p.xaxis.minor_tick_line_color=None\n",
    "#p.yaxis.minor_tick_line_color=None\n",
    "#p.xaxis.axis_label=\"Date\"\n",
    "#p.yaxis.axis_label=\"Intensity\"    \n",
    "     \n",
    "#p.line([1,2,3],[4,5,6])\n",
    "#output_file(\"graph.html\")\n",
    "#show(p)\n",
    "\n",
    "df = pd.read_excel(\"http://pythonhow.com/verlegenhuken.xlsx\")\n",
    "df.head()\n",
    "x = (df[\"Temperature\"] - 32) * 5.0 / 9\n",
    "y = df[\"Pressure\"] / 10\n",
    "\n",
    "output_file(\"Exercise4.html\")\n",
    "p = figure(plot_width=500,plot_height=400,tools='pan, reset',logo=None)\n",
    "p.title.text = \"Temperature and Air Pressure\"\n",
    "p.title.text_color = \"Gray\"\n",
    "p.title.text_font = \"arial\"\n",
    "p.title.text_font_style = \"bold\"\n",
    "p.title.text_font_size = \"24pt\"\n",
    "p.title.align = \"center\"\n",
    "p.xaxis.axis_label = \"Temperature (Celsius)\"\n",
    "p.xaxis.axis_label_text_font = \"arial\"\n",
    "p.xaxis.axis_label_text_font_style = \"bold\"\n",
    "p.xaxis.axis_label_text_font_size = \"14pt\"\n",
    "p.xaxis.minor_tick_line_color = None\n",
    "p.yaxis.axis_label_text_font = \"arial\"\n",
    "p.yaxis.axis_label_text_font_style = \"bold\"\n",
    "p.yaxis.axis_label_text_font_size = \"14pt\"\n",
    "p.yaxis.axis_label = \"Pressure (hPa)\"\n",
    "p.yaxis.minor_tick_line_color = None\n",
    "p.circle(x, y, size = .5)\n",
    "show(p)"
   ]
  },
  {
   "cell_type": "code",
   "execution_count": null,
   "metadata": {
    "collapsed": true
   },
   "outputs": [],
   "source": []
  }
 ],
 "metadata": {
  "kernelspec": {
   "display_name": "Python 3",
   "language": "python",
   "name": "python3"
  },
  "language_info": {
   "codemirror_mode": {
    "name": "ipython",
    "version": 3
   },
   "file_extension": ".py",
   "mimetype": "text/x-python",
   "name": "python",
   "nbconvert_exporter": "python",
   "pygments_lexer": "ipython3",
   "version": "3.6.2"
  }
 },
 "nbformat": 4,
 "nbformat_minor": 2
}
